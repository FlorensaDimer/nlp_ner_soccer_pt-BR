{
 "cells": [
  {
   "cell_type": "code",
   "execution_count": 4,
   "metadata": {},
   "outputs": [],
   "source": [
    "import os\n",
    "import itertools\n",
    "from collections import Counter"
   ]
  },
  {
   "cell_type": "code",
   "execution_count": 5,
   "metadata": {},
   "outputs": [],
   "source": [
    "pasta_corpus = \"data\\corpus\"\n",
    "\n",
    "corpus = []\n",
    "\n",
    "#Percorre os arquivos da pasta corpus e adiciona o texto de cada arquivo na lista corpus\n",
    "for arquivo in os.listdir(pasta_corpus):\n",
    "\n",
    "    caminho_arquivo = os.path.join(pasta_corpus, arquivo)\n",
    "\n",
    "    with open(caminho_arquivo, \"r\", encoding='utf-16') as arq:\n",
    "        texto = arq.read()\n",
    "        corpus.append(texto)"
   ]
  },
  {
   "cell_type": "code",
   "execution_count": null,
   "metadata": {},
   "outputs": [],
   "source": [
    "sentenças = []\n",
    "qtd_sentenças = []\n",
    "qtd_palavras = []\n",
    "qtd_palavras2 = []\n",
    "\n",
    "for texto in corpus:\n",
    "    texto = (texto.replace(\"\\n\", \"\")\n",
    "    .replace(\"(\", \"\")\n",
    "    .replace(\")\", \"\")\n",
    "    .replace(\",\", \"\")\n",
    "    .replace(\":\", \"\")\n",
    "    .replace(\";\", \"\")\n",
    "    .replace(\"!\", \"\")\n",
    "    .replace(\"?\", \"\")\n",
    "    .replace(\"\\\"\", \"\")\n",
    "    .replace(\"’\", \"\")\n",
    "    .replace(\"‘\", \"\")\n",
    "    .replace(\" - \", \"\")\n",
    "    .replace(\" -\", \"\")\n",
    "    .replace(\"- \", \"\")\n",
    "    .replace(\" @ \", \"\")\n",
    "    .replace(\"_\", \"\")\n",
    "    .replace(\"[\", \"\")\n",
    "    .replace(\"]\", \"\")\n",
    "    .replace(\"{\", \"\")\n",
    "    .replace(\"}\", \"\")\n",
    "    )\n",
    "    sentença = texto.split(\".\")\n",
    "    qtd_sentenças.append(len(sentença)-1)\n",
    "    sentenças.append(sentença)\n",
    "    tokens = [s.split(\" \") for s in sentença]\n",
    "    flattened = list(itertools.chain(*tokens))\n",
    "    qtd_palavras.append(len(flattened)-1)\n",
    "    qtd_palavras2+=flattened\n",
    "\n",
    "print(f'Quantidade de sentenças por texto: {qtd_sentenças}')\n",
    "print(f'Quantidade de sentenças no corpus: {sum(qtd_sentenças)}')\n",
    "print(f'Quantidade de tokens por texto: {qtd_palavras}')\n",
    "print(f'Quantidade de tokens no corpus: {sum(qtd_palavras)}')\n",
    "print(f'Média de sentenças no corpus: {sum(qtd_sentenças)/304}')\n",
    "print(f'Média de tokens no corpus: {sum(qtd_palavras)/304}')\n",
    "print(f'Frenquência de palavras: {Counter(qtd_palavras2)}')"
   ]
  }
 ],
 "metadata": {
  "kernelspec": {
   "display_name": ".venv",
   "language": "python",
   "name": "python3"
  },
  "language_info": {
   "codemirror_mode": {
    "name": "ipython",
    "version": 3
   },
   "file_extension": ".py",
   "mimetype": "text/x-python",
   "name": "python",
   "nbconvert_exporter": "python",
   "pygments_lexer": "ipython3",
   "version": "3.11.9"
  }
 },
 "nbformat": 4,
 "nbformat_minor": 2
}
