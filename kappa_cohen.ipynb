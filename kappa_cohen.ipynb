{
 "cells": [
  {
   "cell_type": "code",
   "id": "initial_id",
   "metadata": {
    "collapsed": true,
    "ExecuteTime": {
     "end_time": "2024-10-06T18:51:02.691157Z",
     "start_time": "2024-10-06T18:50:39.956644Z"
    }
   },
   "source": [
    "import json\n",
    "import numpy as np\n",
    "from sklearn.metrics import cohen_kappa_score"
   ],
   "outputs": [],
   "execution_count": 1
  },
  {
   "metadata": {
    "ExecuteTime": {
     "end_time": "2024-10-06T18:51:02.696814Z",
     "start_time": "2024-10-06T18:51:02.693415Z"
    }
   },
   "cell_type": "code",
   "source": [
    "# Função para carregar as anotações a partir de um arquivo JSONL\n",
    "def load_annotations(file_path):\n",
    "    with open(file_path, 'r', encoding='utf-8') as f:\n",
    "        annotations = [json.loads(line) for line in f.readlines()]\n",
    "    return annotations\n"
   ],
   "id": "d1eeb255f01e65c5",
   "outputs": [],
   "execution_count": 2
  },
  {
   "metadata": {
    "ExecuteTime": {
     "end_time": "2024-10-06T18:51:02.700689Z",
     "start_time": "2024-10-06T18:51:02.697989Z"
    }
   },
   "cell_type": "code",
   "source": [
    "# Função para criar uma lista de rótulos tokenizada\n",
    "def create_labels(text, annotations):\n",
    "    labels = [\"O\"] * len(text)  # Lista inicial de rótulos \"O\" (outside)\n",
    "    for start, end, label in annotations['label']:\n",
    "        for i in range(start, end):\n",
    "            labels[i] = label\n",
    "    return labels\n"
   ],
   "id": "55432decf64144c",
   "outputs": [],
   "execution_count": 3
  },
  {
   "metadata": {
    "ExecuteTime": {
     "end_time": "2024-10-06T18:51:02.705470Z",
     "start_time": "2024-10-06T18:51:02.702406Z"
    }
   },
   "cell_type": "code",
   "source": [
    "# Função para alinhar anotações pelo ID\n",
    "def align_by_id(annotator1, annotator2):\n",
    "    aligned_1 = []\n",
    "    aligned_2 = []\n",
    "    for a1 in annotator1:\n",
    "        for a2 in annotator2:\n",
    "            if a1['id'] == a2['id']:  # Alinhar pelo ID\n",
    "                labels_1 = create_labels(a1['text'], a1)\n",
    "                labels_2 = create_labels(a2['text'], a2)\n",
    "                aligned_1.append(labels_1)\n",
    "                aligned_2.append(labels_2)\n",
    "    return aligned_1, aligned_2"
   ],
   "id": "461badb700c42ee7",
   "outputs": [],
   "execution_count": 4
  },
  {
   "metadata": {
    "ExecuteTime": {
     "end_time": "2024-10-06T18:51:02.709132Z",
     "start_time": "2024-10-06T18:51:02.706336Z"
    }
   },
   "cell_type": "code",
   "source": [
    "# Função para calcular Kappa de Cohen para todos os pares com verificação de variação\n",
    "def calculate_kappa_for_all(aligned_1, aligned_2, all_labels):\n",
    "    kappas = []\n",
    "    for labels_1, labels_2 in zip(aligned_1, aligned_2):\n",
    "        # Verifica se existe variação nas anotações\n",
    "        if len(set(labels_1)) > 1 or len(set(labels_2)) > 1:\n",
    "            kappa = cohen_kappa_score(labels_1, labels_2, labels=all_labels)\n",
    "        else:\n",
    "            kappa = None  # Ignora se não houver variação\n",
    "        kappas.append(kappa)\n",
    "    return kappas\n"
   ],
   "id": "21c040a5f59d60cf",
   "outputs": [],
   "execution_count": 5
  },
  {
   "metadata": {
    "ExecuteTime": {
     "end_time": "2024-10-06T18:51:02.712449Z",
     "start_time": "2024-10-06T18:51:02.710018Z"
    }
   },
   "cell_type": "code",
   "source": [
    "# Definir os rótulos conhecidos (entidades)\n",
    "all_labels = [\n",
    "    \"O\",  # Outside, sem anotação\n",
    "    \"time\", \"goleiro\", \"defensor\", \"meio-campista\", \"atacante\",\n",
    "    \"campeonato\", \"estádio\", \"técnico\", \"árbitro principal\", \"assistente\", \"placar\"\n",
    "]"
   ],
   "id": "9b8768965934d75a",
   "outputs": [],
   "execution_count": 6
  },
  {
   "metadata": {
    "ExecuteTime": {
     "end_time": "2024-10-06T18:53:35.527322Z",
     "start_time": "2024-10-06T18:53:35.511660Z"
    }
   },
   "cell_type": "code",
   "source": [
    "# Carregar os três arquivos de anotadores (JSONL)\n",
    "annotations_annotator_1 = load_annotations('./data/corpus_annotated/henrique.jsonl')\n",
    "annotations_annotator_2 = load_annotations('./data/corpus_annotated/florensa.jsonl')\n",
    "annotations_annotator_3 = load_annotations('./data/corpus_annotated/pedro.jsonl')"
   ],
   "id": "3ac248fdcb0ef67c",
   "outputs": [],
   "execution_count": 10
  },
  {
   "metadata": {
    "ExecuteTime": {
     "end_time": "2024-10-06T18:53:37.629412Z",
     "start_time": "2024-10-06T18:53:37.616660Z"
    }
   },
   "cell_type": "code",
   "source": [
    "# Alinhar anotadores 1 e 2 pelo ID\n",
    "aligned_1_2_1, aligned_1_2_2 = align_by_id(annotations_annotator_1, annotations_annotator_2)\n",
    "\n",
    "# Alinhar anotadores 2 e 3 pelo ID\n",
    "aligned_2_3_2, aligned_2_3_3 = align_by_id(annotations_annotator_2, annotations_annotator_3)\n",
    "\n",
    "# Alinhar anotadores 1 e 3 pelo ID\n",
    "aligned_1_3_1, aligned_1_3_3 = align_by_id(annotations_annotator_1, annotations_annotator_3)"
   ],
   "id": "2238e5b77ba9bb61",
   "outputs": [],
   "execution_count": 11
  },
  {
   "metadata": {
    "ExecuteTime": {
     "end_time": "2024-10-06T18:53:39.908122Z",
     "start_time": "2024-10-06T18:53:39.277503Z"
    }
   },
   "cell_type": "code",
   "source": [
    "# Calcular o Kappa de Cohen para cada par de anotadores com verificação de variação\n",
    "kappa_1_2 = calculate_kappa_for_all(aligned_1_2_1, aligned_1_2_2, all_labels)\n",
    "kappa_2_3 = calculate_kappa_for_all(aligned_2_3_2, aligned_2_3_3, all_labels)\n",
    "kappa_1_3 = calculate_kappa_for_all(aligned_1_3_1, aligned_1_3_3, all_labels)"
   ],
   "id": "bf38aae3681747a4",
   "outputs": [],
   "execution_count": 12
  },
  {
   "metadata": {
    "ExecuteTime": {
     "end_time": "2024-10-06T18:53:40.659615Z",
     "start_time": "2024-10-06T18:53:40.654935Z"
    }
   },
   "cell_type": "code",
   "source": [
    "# Calcular a média do Kappa Cohen para cada par de anotadores\n",
    "valid_kappas_1_2 = [k for k in kappa_1_2 if k is not None]\n",
    "mean_kappa_1_2 = np.mean(valid_kappas_1_2)\n",
    "\n",
    "valid_kappas_2_3 = [k for k in kappa_2_3 if k is not None]\n",
    "mean_kappa_2_3 = np.mean(valid_kappas_2_3)\n",
    "\n",
    "valid_kappas_1_3 = [k for k in kappa_1_3 if k is not None]\n",
    "mean_kappa_1_3 = np.mean(valid_kappas_1_3)"
   ],
   "id": "587c98aac9ee9b1c",
   "outputs": [],
   "execution_count": 13
  },
  {
   "metadata": {
    "ExecuteTime": {
     "end_time": "2024-10-06T18:53:41.770964Z",
     "start_time": "2024-10-06T18:53:41.767964Z"
    }
   },
   "cell_type": "code",
   "source": [
    "print(\"Média Kappa de Cohen para 99 textos (Henrique vs Florensa):\", mean_kappa_1_2)\n",
    "print(\"Média Kappa de Cohen para 99 textos  (Florensa vs Pedro):\", mean_kappa_2_3)\n",
    "print(\"Média Kappa de Cohen para 99 textos  (Henrique vs Pedro):\", mean_kappa_1_3)"
   ],
   "id": "70ab77d2eb38312",
   "outputs": [
    {
     "name": "stdout",
     "output_type": "stream",
     "text": [
      "Média Kappa de Cohen para 99 textos (Henrique vs Florensa): 0.8263866110497625\n",
      "Média Kappa de Cohen para 99 textos  (Florensa vs Pedro): 0.5445384430444409\n",
      "Média Kappa de Cohen para 99 textos  (Henrique vs Pedro): 0.5583901242607661\n"
     ]
    }
   ],
   "execution_count": 14
  }
 ],
 "metadata": {
  "kernelspec": {
   "display_name": "Python 3",
   "language": "python",
   "name": "python3"
  },
  "language_info": {
   "codemirror_mode": {
    "name": "ipython",
    "version": 2
   },
   "file_extension": ".py",
   "mimetype": "text/x-python",
   "name": "python",
   "nbconvert_exporter": "python",
   "pygments_lexer": "ipython2",
   "version": "2.7.6"
  }
 },
 "nbformat": 4,
 "nbformat_minor": 5
}
