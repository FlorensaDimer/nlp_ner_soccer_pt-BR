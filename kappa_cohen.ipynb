{
 "cells": [
  {
   "cell_type": "code",
   "id": "initial_id",
   "metadata": {
    "collapsed": true,
    "ExecuteTime": {
     "end_time": "2024-10-06T18:51:02.691157Z",
     "start_time": "2024-10-06T18:50:39.956644Z"
    }
   },
   "source": [
    "import json\n",
    "import numpy as np\n",
    "from sklearn.metrics import cohen_kappa_score"
   ],
   "outputs": [],
   "execution_count": 1
  },
  {
   "metadata": {
    "ExecuteTime": {
     "end_time": "2024-10-06T18:51:02.696814Z",
     "start_time": "2024-10-06T18:51:02.693415Z"
    }
   },
   "cell_type": "code",
   "source": [
    "# Função para carregar as anotações a partir de um arquivo JSONL\n",
    "def load_annotations(file_path):\n",
    "    with open(file_path, 'r', encoding='utf-8') as f:\n",
    "        annotations = [json.loads(line) for line in f.readlines()]\n",
    "    return annotations\n"
   ],
   "id": "d1eeb255f01e65c5",
   "outputs": [],
   "execution_count": 2
  },
  {
   "metadata": {
    "ExecuteTime": {
     "end_time": "2024-10-06T19:32:35.774910Z",
     "start_time": "2024-10-06T19:32:35.769221Z"
    }
   },
   "cell_type": "code",
   "source": [
    "# Função para criar uma lista de rótulos tokenizada\n",
    "def create_labels(text, annotations):\n",
    "    labels = [\"O\"] * len(text)  # Lista inicial de rótulos \"O\" (outside)\n",
    "    for start, end, label in annotations['label']:\n",
    "        if start < len(text) and end <= len(text):\n",
    "            for i in range(start, end):\n",
    "                labels[i] = label\n",
    "    return labels\n"
   ],
   "id": "55432decf64144c",
   "outputs": [],
   "execution_count": 28
  },
  {
   "metadata": {
    "ExecuteTime": {
     "end_time": "2024-10-06T18:51:02.705470Z",
     "start_time": "2024-10-06T18:51:02.702406Z"
    }
   },
   "cell_type": "code",
   "source": [
    "# Função para alinhar anotações pelo ID\n",
    "def align_by_id(annotator1, annotator2):\n",
    "    aligned_1 = []\n",
    "    aligned_2 = []\n",
    "    for a1 in annotator1:\n",
    "        for a2 in annotator2:\n",
    "            if a1['id'] == a2['id']:  # Alinhar pelo ID\n",
    "                labels_1 = create_labels(a1['text'], a1)\n",
    "                labels_2 = create_labels(a2['text'], a2)\n",
    "                aligned_1.append(labels_1)\n",
    "                aligned_2.append(labels_2)\n",
    "    return aligned_1, aligned_2"
   ],
   "id": "461badb700c42ee7",
   "outputs": [],
   "execution_count": 4
  },
  {
   "metadata": {
    "ExecuteTime": {
     "end_time": "2024-10-06T18:51:02.709132Z",
     "start_time": "2024-10-06T18:51:02.706336Z"
    }
   },
   "cell_type": "code",
   "source": [
    "# Função para calcular Kappa de Cohen para todos os pares com verificação de variação\n",
    "def calculate_kappa_for_all(aligned_1, aligned_2, all_labels):\n",
    "    kappas = []\n",
    "    for labels_1, labels_2 in zip(aligned_1, aligned_2):\n",
    "        # Verifica se existe variação nas anotações\n",
    "        if len(set(labels_1)) > 1 or len(set(labels_2)) > 1:\n",
    "            kappa = cohen_kappa_score(labels_1, labels_2, labels=all_labels)\n",
    "        else:\n",
    "            kappa = None  # Ignora se não houver variação\n",
    "        kappas.append(kappa)\n",
    "    return kappas\n"
   ],
   "id": "21c040a5f59d60cf",
   "outputs": [],
   "execution_count": 5
  },
  {
   "metadata": {
    "ExecuteTime": {
     "end_time": "2024-10-06T19:26:39.267657Z",
     "start_time": "2024-10-06T19:26:39.262385Z"
    }
   },
   "cell_type": "code",
   "source": [
    "# Função para filtrar anotações com base em IDs\n",
    "def filter_annotations_by_ids(annotations, ids):\n",
    "    # Filtrar anotações que têm o ID especificado\n",
    "    filtered_annotations = [annotation for annotation in annotations if annotation['id'] in ids]\n",
    "    return filtered_annotations"
   ],
   "id": "17285fff01625eda",
   "outputs": [],
   "execution_count": 19
  },
  {
   "metadata": {
    "ExecuteTime": {
     "end_time": "2024-10-06T18:51:02.712449Z",
     "start_time": "2024-10-06T18:51:02.710018Z"
    }
   },
   "cell_type": "code",
   "source": [
    "# Definir os rótulos conhecidos (entidades)\n",
    "all_labels = [\n",
    "    \"O\",  # Outside, sem anotação\n",
    "    \"time\", \"goleiro\", \"defensor\", \"meio-campista\", \"atacante\",\n",
    "    \"campeonato\", \"estádio\", \"técnico\", \"árbitro principal\", \"assistente\", \"placar\"\n",
    "]"
   ],
   "id": "9b8768965934d75a",
   "outputs": [],
   "execution_count": 6
  },
  {
   "metadata": {
    "ExecuteTime": {
     "end_time": "2024-10-06T18:53:35.527322Z",
     "start_time": "2024-10-06T18:53:35.511660Z"
    }
   },
   "cell_type": "code",
   "source": [
    "# Carregar os três arquivos de anotadores (JSONL)\n",
    "annotations_annotator_1 = load_annotations('./data/corpus_annotated/henrique.jsonl')\n",
    "annotations_annotator_2 = load_annotations('./data/corpus_annotated/florensa.jsonl')\n",
    "annotations_annotator_3 = load_annotations('./data/corpus_annotated/pedro.jsonl')"
   ],
   "id": "3ac248fdcb0ef67c",
   "outputs": [],
   "execution_count": 10
  },
  {
   "metadata": {
    "ExecuteTime": {
     "end_time": "2024-10-06T18:53:37.629412Z",
     "start_time": "2024-10-06T18:53:37.616660Z"
    }
   },
   "cell_type": "code",
   "source": [
    "# Alinhar anotadores 1 e 2 pelo ID\n",
    "aligned_1_2_1, aligned_1_2_2 = align_by_id(annotations_annotator_1, annotations_annotator_2)\n",
    "\n",
    "# Alinhar anotadores 2 e 3 pelo ID\n",
    "aligned_2_3_2, aligned_2_3_3 = align_by_id(annotations_annotator_2, annotations_annotator_3)\n",
    "\n",
    "# Alinhar anotadores 1 e 3 pelo ID\n",
    "aligned_1_3_1, aligned_1_3_3 = align_by_id(annotations_annotator_1, annotations_annotator_3)"
   ],
   "id": "2238e5b77ba9bb61",
   "outputs": [],
   "execution_count": 11
  },
  {
   "metadata": {
    "ExecuteTime": {
     "end_time": "2024-10-06T18:53:39.908122Z",
     "start_time": "2024-10-06T18:53:39.277503Z"
    }
   },
   "cell_type": "code",
   "source": [
    "# Calcular o Kappa de Cohen para cada par de anotadores com verificação de variação\n",
    "kappa_1_2 = calculate_kappa_for_all(aligned_1_2_1, aligned_1_2_2, all_labels)\n",
    "kappa_2_3 = calculate_kappa_for_all(aligned_2_3_2, aligned_2_3_3, all_labels)\n",
    "kappa_1_3 = calculate_kappa_for_all(aligned_1_3_1, aligned_1_3_3, all_labels)"
   ],
   "id": "bf38aae3681747a4",
   "outputs": [],
   "execution_count": 12
  },
  {
   "metadata": {
    "ExecuteTime": {
     "end_time": "2024-10-06T18:53:40.659615Z",
     "start_time": "2024-10-06T18:53:40.654935Z"
    }
   },
   "cell_type": "code",
   "source": [
    "# Calcular a média do Kappa Cohen para cada par de anotadores\n",
    "valid_kappas_1_2 = [k for k in kappa_1_2 if k is not None]\n",
    "mean_kappa_1_2 = np.mean(valid_kappas_1_2)\n",
    "\n",
    "valid_kappas_2_3 = [k for k in kappa_2_3 if k is not None]\n",
    "mean_kappa_2_3 = np.mean(valid_kappas_2_3)\n",
    "\n",
    "valid_kappas_1_3 = [k for k in kappa_1_3 if k is not None]\n",
    "mean_kappa_1_3 = np.mean(valid_kappas_1_3)"
   ],
   "id": "587c98aac9ee9b1c",
   "outputs": [],
   "execution_count": 13
  },
  {
   "metadata": {
    "ExecuteTime": {
     "end_time": "2024-10-06T18:53:41.770964Z",
     "start_time": "2024-10-06T18:53:41.767964Z"
    }
   },
   "cell_type": "code",
   "source": [
    "print(\"Média Kappa de Cohen para 99 textos (Henrique vs Florensa):\", mean_kappa_1_2)\n",
    "print(\"Média Kappa de Cohen para 99 textos  (Florensa vs Pedro):\", mean_kappa_2_3)\n",
    "print(\"Média Kappa de Cohen para 99 textos  (Henrique vs Pedro):\", mean_kappa_1_3)"
   ],
   "id": "70ab77d2eb38312",
   "outputs": [
    {
     "name": "stdout",
     "output_type": "stream",
     "text": [
      "Média Kappa de Cohen para 99 textos (Henrique vs Florensa): 0.8263866110497625\n",
      "Média Kappa de Cohen para 99 textos  (Florensa vs Pedro): 0.5445384430444409\n",
      "Média Kappa de Cohen para 99 textos  (Henrique vs Pedro): 0.5583901242607661\n"
     ]
    }
   ],
   "execution_count": 14
  },
  {
   "metadata": {
    "ExecuteTime": {
     "end_time": "2024-10-06T19:16:46.478748Z",
     "start_time": "2024-10-06T19:16:46.471917Z"
    }
   },
   "cell_type": "code",
   "source": [
    "# Carregar os dois arquivos de llm (JSONL)\n",
    "annotations_annotator_llm_zs = load_annotations('./data/corpus_annotated/llm_zero_shot.jsonl')\n",
    "annotations_annotator_llm_fs = load_annotations('./data/corpus_annotated/llm_few_shot.jsonl')"
   ],
   "id": "ad714126be9615c1",
   "outputs": [],
   "execution_count": 16
  },
  {
   "metadata": {
    "ExecuteTime": {
     "end_time": "2024-10-06T19:26:18.436770Z",
     "start_time": "2024-10-06T19:26:18.428853Z"
    }
   },
   "cell_type": "code",
   "source": "ids_to_filter = [104, 129, 163, 165, 172, 153]",
   "id": "ebfa7c49ba173bcf",
   "outputs": [],
   "execution_count": 18
  },
  {
   "metadata": {
    "ExecuteTime": {
     "end_time": "2024-10-06T19:27:48.468699Z",
     "start_time": "2024-10-06T19:27:48.462687Z"
    }
   },
   "cell_type": "code",
   "source": "filtered_annotations_annotator_1 = filter_annotations_by_ids(annotations_annotator_1, ids_to_filter)",
   "id": "505c35550c13fd23",
   "outputs": [],
   "execution_count": 24
  },
  {
   "metadata": {
    "ExecuteTime": {
     "end_time": "2024-10-06T19:32:39.022649Z",
     "start_time": "2024-10-06T19:32:39.017560Z"
    }
   },
   "cell_type": "code",
   "source": [
    "# Alinhar anotadores 1 e llm zero shot pelo ID\n",
    "aligned_1_zs_1, aligned_1_zs_2 = align_by_id(filtered_annotations_annotator_1, annotations_annotator_llm_zs)\n",
    "\n",
    "# Alinhar anotadores 1 e llm few shot pelo ID\n",
    "aligned_1_fs_1, aligned_1_fs_2 = align_by_id(filtered_annotations_annotator_1, annotations_annotator_llm_fs)"
   ],
   "id": "6aa65fd703a50177",
   "outputs": [],
   "execution_count": 29
  },
  {
   "metadata": {
    "ExecuteTime": {
     "end_time": "2024-10-06T19:32:41.634021Z",
     "start_time": "2024-10-06T19:32:41.465906Z"
    }
   },
   "cell_type": "code",
   "source": [
    "# Calcular o Kappa de Cohen para cada par de anotadores com verificação de variação\n",
    "kappa_1_zs = calculate_kappa_for_all(aligned_1_zs_1, aligned_1_zs_2, all_labels)\n",
    "kappa_1_fs = calculate_kappa_for_all(aligned_1_fs_1, aligned_1_fs_2, all_labels)"
   ],
   "id": "447dabead56a1d9d",
   "outputs": [
    {
     "ename": "ValueError",
     "evalue": "Found input variables with inconsistent numbers of samples: [1419, 1418]",
     "output_type": "error",
     "traceback": [
      "\u001B[0;31m---------------------------------------------------------------------------\u001B[0m",
      "\u001B[0;31mValueError\u001B[0m                                Traceback (most recent call last)",
      "Cell \u001B[0;32mIn[30], line 2\u001B[0m\n\u001B[1;32m      1\u001B[0m \u001B[38;5;66;03m# Calcular o Kappa de Cohen para cada par de anotadores com verificação de variação\u001B[39;00m\n\u001B[0;32m----> 2\u001B[0m kappa_1_zs \u001B[38;5;241m=\u001B[39m \u001B[43mcalculate_kappa_for_all\u001B[49m\u001B[43m(\u001B[49m\u001B[43maligned_1_zs_1\u001B[49m\u001B[43m,\u001B[49m\u001B[43m \u001B[49m\u001B[43maligned_1_zs_2\u001B[49m\u001B[43m,\u001B[49m\u001B[43m \u001B[49m\u001B[43mall_labels\u001B[49m\u001B[43m)\u001B[49m\n\u001B[1;32m      3\u001B[0m kappa_1_fs \u001B[38;5;241m=\u001B[39m calculate_kappa_for_all(aligned_1_fs_1, aligned_1_fs_2, all_labels)\n",
      "Cell \u001B[0;32mIn[5], line 7\u001B[0m, in \u001B[0;36mcalculate_kappa_for_all\u001B[0;34m(aligned_1, aligned_2, all_labels)\u001B[0m\n\u001B[1;32m      4\u001B[0m \u001B[38;5;28;01mfor\u001B[39;00m labels_1, labels_2 \u001B[38;5;129;01min\u001B[39;00m \u001B[38;5;28mzip\u001B[39m(aligned_1, aligned_2):\n\u001B[1;32m      5\u001B[0m     \u001B[38;5;66;03m# Verifica se existe variação nas anotações\u001B[39;00m\n\u001B[1;32m      6\u001B[0m     \u001B[38;5;28;01mif\u001B[39;00m \u001B[38;5;28mlen\u001B[39m(\u001B[38;5;28mset\u001B[39m(labels_1)) \u001B[38;5;241m>\u001B[39m \u001B[38;5;241m1\u001B[39m \u001B[38;5;129;01mor\u001B[39;00m \u001B[38;5;28mlen\u001B[39m(\u001B[38;5;28mset\u001B[39m(labels_2)) \u001B[38;5;241m>\u001B[39m \u001B[38;5;241m1\u001B[39m:\n\u001B[0;32m----> 7\u001B[0m         kappa \u001B[38;5;241m=\u001B[39m \u001B[43mcohen_kappa_score\u001B[49m\u001B[43m(\u001B[49m\u001B[43mlabels_1\u001B[49m\u001B[43m,\u001B[49m\u001B[43m \u001B[49m\u001B[43mlabels_2\u001B[49m\u001B[43m,\u001B[49m\u001B[43m \u001B[49m\u001B[43mlabels\u001B[49m\u001B[38;5;241;43m=\u001B[39;49m\u001B[43mall_labels\u001B[49m\u001B[43m)\u001B[49m\n\u001B[1;32m      8\u001B[0m     \u001B[38;5;28;01melse\u001B[39;00m:\n\u001B[1;32m      9\u001B[0m         kappa \u001B[38;5;241m=\u001B[39m \u001B[38;5;28;01mNone\u001B[39;00m  \u001B[38;5;66;03m# Ignora se não houver variação\u001B[39;00m\n",
      "File \u001B[0;32m~/Documents/pucrs/nlp/nlp_ner_soccer_pt-BR/.venv/lib/python3.9/site-packages/sklearn/utils/_param_validation.py:213\u001B[0m, in \u001B[0;36mvalidate_params.<locals>.decorator.<locals>.wrapper\u001B[0;34m(*args, **kwargs)\u001B[0m\n\u001B[1;32m    207\u001B[0m \u001B[38;5;28;01mtry\u001B[39;00m:\n\u001B[1;32m    208\u001B[0m     \u001B[38;5;28;01mwith\u001B[39;00m config_context(\n\u001B[1;32m    209\u001B[0m         skip_parameter_validation\u001B[38;5;241m=\u001B[39m(\n\u001B[1;32m    210\u001B[0m             prefer_skip_nested_validation \u001B[38;5;129;01mor\u001B[39;00m global_skip_validation\n\u001B[1;32m    211\u001B[0m         )\n\u001B[1;32m    212\u001B[0m     ):\n\u001B[0;32m--> 213\u001B[0m         \u001B[38;5;28;01mreturn\u001B[39;00m \u001B[43mfunc\u001B[49m\u001B[43m(\u001B[49m\u001B[38;5;241;43m*\u001B[39;49m\u001B[43margs\u001B[49m\u001B[43m,\u001B[49m\u001B[43m \u001B[49m\u001B[38;5;241;43m*\u001B[39;49m\u001B[38;5;241;43m*\u001B[39;49m\u001B[43mkwargs\u001B[49m\u001B[43m)\u001B[49m\n\u001B[1;32m    214\u001B[0m \u001B[38;5;28;01mexcept\u001B[39;00m InvalidParameterError \u001B[38;5;28;01mas\u001B[39;00m e:\n\u001B[1;32m    215\u001B[0m     \u001B[38;5;66;03m# When the function is just a wrapper around an estimator, we allow\u001B[39;00m\n\u001B[1;32m    216\u001B[0m     \u001B[38;5;66;03m# the function to delegate validation to the estimator, but we replace\u001B[39;00m\n\u001B[1;32m    217\u001B[0m     \u001B[38;5;66;03m# the name of the estimator by the name of the function in the error\u001B[39;00m\n\u001B[1;32m    218\u001B[0m     \u001B[38;5;66;03m# message to avoid confusion.\u001B[39;00m\n\u001B[1;32m    219\u001B[0m     msg \u001B[38;5;241m=\u001B[39m re\u001B[38;5;241m.\u001B[39msub(\n\u001B[1;32m    220\u001B[0m         \u001B[38;5;124mr\u001B[39m\u001B[38;5;124m\"\u001B[39m\u001B[38;5;124mparameter of \u001B[39m\u001B[38;5;124m\\\u001B[39m\u001B[38;5;124mw+ must be\u001B[39m\u001B[38;5;124m\"\u001B[39m,\n\u001B[1;32m    221\u001B[0m         \u001B[38;5;124mf\u001B[39m\u001B[38;5;124m\"\u001B[39m\u001B[38;5;124mparameter of \u001B[39m\u001B[38;5;132;01m{\u001B[39;00mfunc\u001B[38;5;241m.\u001B[39m\u001B[38;5;18m__qualname__\u001B[39m\u001B[38;5;132;01m}\u001B[39;00m\u001B[38;5;124m must be\u001B[39m\u001B[38;5;124m\"\u001B[39m,\n\u001B[1;32m    222\u001B[0m         \u001B[38;5;28mstr\u001B[39m(e),\n\u001B[1;32m    223\u001B[0m     )\n",
      "File \u001B[0;32m~/Documents/pucrs/nlp/nlp_ner_soccer_pt-BR/.venv/lib/python3.9/site-packages/sklearn/metrics/_classification.py:713\u001B[0m, in \u001B[0;36mcohen_kappa_score\u001B[0;34m(y1, y2, labels, weights, sample_weight)\u001B[0m\n\u001B[1;32m    639\u001B[0m \u001B[38;5;129m@validate_params\u001B[39m(\n\u001B[1;32m    640\u001B[0m     {\n\u001B[1;32m    641\u001B[0m         \u001B[38;5;124m\"\u001B[39m\u001B[38;5;124my1\u001B[39m\u001B[38;5;124m\"\u001B[39m: [\u001B[38;5;124m\"\u001B[39m\u001B[38;5;124marray-like\u001B[39m\u001B[38;5;124m\"\u001B[39m],\n\u001B[0;32m   (...)\u001B[0m\n\u001B[1;32m    648\u001B[0m )\n\u001B[1;32m    649\u001B[0m \u001B[38;5;28;01mdef\u001B[39;00m \u001B[38;5;21mcohen_kappa_score\u001B[39m(y1, y2, \u001B[38;5;241m*\u001B[39m, labels\u001B[38;5;241m=\u001B[39m\u001B[38;5;28;01mNone\u001B[39;00m, weights\u001B[38;5;241m=\u001B[39m\u001B[38;5;28;01mNone\u001B[39;00m, sample_weight\u001B[38;5;241m=\u001B[39m\u001B[38;5;28;01mNone\u001B[39;00m):\n\u001B[1;32m    650\u001B[0m \u001B[38;5;250m    \u001B[39m\u001B[38;5;124mr\u001B[39m\u001B[38;5;124;03m\"\"\"Compute Cohen's kappa: a statistic that measures inter-annotator agreement.\u001B[39;00m\n\u001B[1;32m    651\u001B[0m \n\u001B[1;32m    652\u001B[0m \u001B[38;5;124;03m    This function computes Cohen's kappa [1]_, a score that expresses the level\u001B[39;00m\n\u001B[0;32m   (...)\u001B[0m\n\u001B[1;32m    711\u001B[0m \u001B[38;5;124;03m    np.float64(0.6875)\u001B[39;00m\n\u001B[1;32m    712\u001B[0m \u001B[38;5;124;03m    \"\"\"\u001B[39;00m\n\u001B[0;32m--> 713\u001B[0m     confusion \u001B[38;5;241m=\u001B[39m \u001B[43mconfusion_matrix\u001B[49m\u001B[43m(\u001B[49m\u001B[43my1\u001B[49m\u001B[43m,\u001B[49m\u001B[43m \u001B[49m\u001B[43my2\u001B[49m\u001B[43m,\u001B[49m\u001B[43m \u001B[49m\u001B[43mlabels\u001B[49m\u001B[38;5;241;43m=\u001B[39;49m\u001B[43mlabels\u001B[49m\u001B[43m,\u001B[49m\u001B[43m \u001B[49m\u001B[43msample_weight\u001B[49m\u001B[38;5;241;43m=\u001B[39;49m\u001B[43msample_weight\u001B[49m\u001B[43m)\u001B[49m\n\u001B[1;32m    714\u001B[0m     n_classes \u001B[38;5;241m=\u001B[39m confusion\u001B[38;5;241m.\u001B[39mshape[\u001B[38;5;241m0\u001B[39m]\n\u001B[1;32m    715\u001B[0m     sum0 \u001B[38;5;241m=\u001B[39m np\u001B[38;5;241m.\u001B[39msum(confusion, axis\u001B[38;5;241m=\u001B[39m\u001B[38;5;241m0\u001B[39m)\n",
      "File \u001B[0;32m~/Documents/pucrs/nlp/nlp_ner_soccer_pt-BR/.venv/lib/python3.9/site-packages/sklearn/utils/_param_validation.py:186\u001B[0m, in \u001B[0;36mvalidate_params.<locals>.decorator.<locals>.wrapper\u001B[0;34m(*args, **kwargs)\u001B[0m\n\u001B[1;32m    184\u001B[0m global_skip_validation \u001B[38;5;241m=\u001B[39m get_config()[\u001B[38;5;124m\"\u001B[39m\u001B[38;5;124mskip_parameter_validation\u001B[39m\u001B[38;5;124m\"\u001B[39m]\n\u001B[1;32m    185\u001B[0m \u001B[38;5;28;01mif\u001B[39;00m global_skip_validation:\n\u001B[0;32m--> 186\u001B[0m     \u001B[38;5;28;01mreturn\u001B[39;00m \u001B[43mfunc\u001B[49m\u001B[43m(\u001B[49m\u001B[38;5;241;43m*\u001B[39;49m\u001B[43margs\u001B[49m\u001B[43m,\u001B[49m\u001B[43m \u001B[49m\u001B[38;5;241;43m*\u001B[39;49m\u001B[38;5;241;43m*\u001B[39;49m\u001B[43mkwargs\u001B[49m\u001B[43m)\u001B[49m\n\u001B[1;32m    188\u001B[0m func_sig \u001B[38;5;241m=\u001B[39m signature(func)\n\u001B[1;32m    190\u001B[0m \u001B[38;5;66;03m# Map *args/**kwargs to the function signature\u001B[39;00m\n",
      "File \u001B[0;32m~/Documents/pucrs/nlp/nlp_ner_soccer_pt-BR/.venv/lib/python3.9/site-packages/sklearn/metrics/_classification.py:342\u001B[0m, in \u001B[0;36mconfusion_matrix\u001B[0;34m(y_true, y_pred, labels, sample_weight, normalize)\u001B[0m\n\u001B[1;32m    247\u001B[0m \u001B[38;5;129m@validate_params\u001B[39m(\n\u001B[1;32m    248\u001B[0m     {\n\u001B[1;32m    249\u001B[0m         \u001B[38;5;124m\"\u001B[39m\u001B[38;5;124my_true\u001B[39m\u001B[38;5;124m\"\u001B[39m: [\u001B[38;5;124m\"\u001B[39m\u001B[38;5;124marray-like\u001B[39m\u001B[38;5;124m\"\u001B[39m],\n\u001B[0;32m   (...)\u001B[0m\n\u001B[1;32m    258\u001B[0m     y_true, y_pred, \u001B[38;5;241m*\u001B[39m, labels\u001B[38;5;241m=\u001B[39m\u001B[38;5;28;01mNone\u001B[39;00m, sample_weight\u001B[38;5;241m=\u001B[39m\u001B[38;5;28;01mNone\u001B[39;00m, normalize\u001B[38;5;241m=\u001B[39m\u001B[38;5;28;01mNone\u001B[39;00m\n\u001B[1;32m    259\u001B[0m ):\n\u001B[1;32m    260\u001B[0m \u001B[38;5;250m    \u001B[39m\u001B[38;5;124;03m\"\"\"Compute confusion matrix to evaluate the accuracy of a classification.\u001B[39;00m\n\u001B[1;32m    261\u001B[0m \n\u001B[1;32m    262\u001B[0m \u001B[38;5;124;03m    By definition a confusion matrix :math:`C` is such that :math:`C_{i, j}`\u001B[39;00m\n\u001B[0;32m   (...)\u001B[0m\n\u001B[1;32m    340\u001B[0m \u001B[38;5;124;03m    (np.int64(0), np.int64(2), np.int64(1), np.int64(1))\u001B[39;00m\n\u001B[1;32m    341\u001B[0m \u001B[38;5;124;03m    \"\"\"\u001B[39;00m\n\u001B[0;32m--> 342\u001B[0m     y_type, y_true, y_pred \u001B[38;5;241m=\u001B[39m \u001B[43m_check_targets\u001B[49m\u001B[43m(\u001B[49m\u001B[43my_true\u001B[49m\u001B[43m,\u001B[49m\u001B[43m \u001B[49m\u001B[43my_pred\u001B[49m\u001B[43m)\u001B[49m\n\u001B[1;32m    343\u001B[0m     \u001B[38;5;28;01mif\u001B[39;00m y_type \u001B[38;5;129;01mnot\u001B[39;00m \u001B[38;5;129;01min\u001B[39;00m (\u001B[38;5;124m\"\u001B[39m\u001B[38;5;124mbinary\u001B[39m\u001B[38;5;124m\"\u001B[39m, \u001B[38;5;124m\"\u001B[39m\u001B[38;5;124mmulticlass\u001B[39m\u001B[38;5;124m\"\u001B[39m):\n\u001B[1;32m    344\u001B[0m         \u001B[38;5;28;01mraise\u001B[39;00m \u001B[38;5;167;01mValueError\u001B[39;00m(\u001B[38;5;124m\"\u001B[39m\u001B[38;5;132;01m%s\u001B[39;00m\u001B[38;5;124m is not supported\u001B[39m\u001B[38;5;124m\"\u001B[39m \u001B[38;5;241m%\u001B[39m y_type)\n",
      "File \u001B[0;32m~/Documents/pucrs/nlp/nlp_ner_soccer_pt-BR/.venv/lib/python3.9/site-packages/sklearn/metrics/_classification.py:103\u001B[0m, in \u001B[0;36m_check_targets\u001B[0;34m(y_true, y_pred)\u001B[0m\n\u001B[1;32m     76\u001B[0m \u001B[38;5;250m\u001B[39m\u001B[38;5;124;03m\"\"\"Check that y_true and y_pred belong to the same classification task.\u001B[39;00m\n\u001B[1;32m     77\u001B[0m \n\u001B[1;32m     78\u001B[0m \u001B[38;5;124;03mThis converts multiclass or binary types to a common shape, and raises a\u001B[39;00m\n\u001B[0;32m   (...)\u001B[0m\n\u001B[1;32m    100\u001B[0m \u001B[38;5;124;03my_pred : array or indicator matrix\u001B[39;00m\n\u001B[1;32m    101\u001B[0m \u001B[38;5;124;03m\"\"\"\u001B[39;00m\n\u001B[1;32m    102\u001B[0m xp, _ \u001B[38;5;241m=\u001B[39m get_namespace(y_true, y_pred)\n\u001B[0;32m--> 103\u001B[0m \u001B[43mcheck_consistent_length\u001B[49m\u001B[43m(\u001B[49m\u001B[43my_true\u001B[49m\u001B[43m,\u001B[49m\u001B[43m \u001B[49m\u001B[43my_pred\u001B[49m\u001B[43m)\u001B[49m\n\u001B[1;32m    104\u001B[0m type_true \u001B[38;5;241m=\u001B[39m type_of_target(y_true, input_name\u001B[38;5;241m=\u001B[39m\u001B[38;5;124m\"\u001B[39m\u001B[38;5;124my_true\u001B[39m\u001B[38;5;124m\"\u001B[39m)\n\u001B[1;32m    105\u001B[0m type_pred \u001B[38;5;241m=\u001B[39m type_of_target(y_pred, input_name\u001B[38;5;241m=\u001B[39m\u001B[38;5;124m\"\u001B[39m\u001B[38;5;124my_pred\u001B[39m\u001B[38;5;124m\"\u001B[39m)\n",
      "File \u001B[0;32m~/Documents/pucrs/nlp/nlp_ner_soccer_pt-BR/.venv/lib/python3.9/site-packages/sklearn/utils/validation.py:457\u001B[0m, in \u001B[0;36mcheck_consistent_length\u001B[0;34m(*arrays)\u001B[0m\n\u001B[1;32m    455\u001B[0m uniques \u001B[38;5;241m=\u001B[39m np\u001B[38;5;241m.\u001B[39munique(lengths)\n\u001B[1;32m    456\u001B[0m \u001B[38;5;28;01mif\u001B[39;00m \u001B[38;5;28mlen\u001B[39m(uniques) \u001B[38;5;241m>\u001B[39m \u001B[38;5;241m1\u001B[39m:\n\u001B[0;32m--> 457\u001B[0m     \u001B[38;5;28;01mraise\u001B[39;00m \u001B[38;5;167;01mValueError\u001B[39;00m(\n\u001B[1;32m    458\u001B[0m         \u001B[38;5;124m\"\u001B[39m\u001B[38;5;124mFound input variables with inconsistent numbers of samples: \u001B[39m\u001B[38;5;132;01m%r\u001B[39;00m\u001B[38;5;124m\"\u001B[39m\n\u001B[1;32m    459\u001B[0m         \u001B[38;5;241m%\u001B[39m [\u001B[38;5;28mint\u001B[39m(l) \u001B[38;5;28;01mfor\u001B[39;00m l \u001B[38;5;129;01min\u001B[39;00m lengths]\n\u001B[1;32m    460\u001B[0m     )\n",
      "\u001B[0;31mValueError\u001B[0m: Found input variables with inconsistent numbers of samples: [1419, 1418]"
     ]
    }
   ],
   "execution_count": 30
  },
  {
   "metadata": {},
   "cell_type": "code",
   "outputs": [],
   "execution_count": null,
   "source": [
    "# Calcular a média do Kappa Cohen para cada par de anotadores\n",
    "valid_kappas_1_zs = [k for k in kappa_1_zs if k is not None]\n",
    "mean_kappa_1_zs = np.mean(valid_kappas_1_zs)\n",
    "\n",
    "valid_kappas_1_fs = [k for k in kappa_1_fs if k is not None]\n",
    "mean_kappa_1_fs = np.mean(valid_kappas_1_fs)"
   ],
   "id": "909372554d188e3f"
  },
  {
   "metadata": {},
   "cell_type": "code",
   "outputs": [],
   "execution_count": null,
   "source": [
    "print(\"Média Kappa de Cohen para 99 textos (Henrique vs LLM zero shot):\", mean_kappa_1_zs)\n",
    "print(\"Média Kappa de Cohen para 99 textos  (Florensa vs LLM few shot):\", mean_kappa_1_fs)"
   ],
   "id": "9b166711d47984b"
  }
 ],
 "metadata": {
  "kernelspec": {
   "display_name": "Python 3",
   "language": "python",
   "name": "python3"
  },
  "language_info": {
   "codemirror_mode": {
    "name": "ipython",
    "version": 2
   },
   "file_extension": ".py",
   "mimetype": "text/x-python",
   "name": "python",
   "nbconvert_exporter": "python",
   "pygments_lexer": "ipython2",
   "version": "2.7.6"
  }
 },
 "nbformat": 4,
 "nbformat_minor": 5
}
