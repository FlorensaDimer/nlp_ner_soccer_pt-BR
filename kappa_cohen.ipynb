{
 "cells": [
  {
   "cell_type": "code",
   "id": "initial_id",
   "metadata": {
    "collapsed": true,
    "ExecuteTime": {
     "end_time": "2024-10-07T20:04:19.311048Z",
     "start_time": "2024-10-07T20:04:19.304480Z"
    }
   },
   "source": [
    "import json\n",
    "import numpy as np\n",
    "from sklearn.metrics import cohen_kappa_score"
   ],
   "outputs": [],
   "execution_count": 203
  },
  {
   "metadata": {
    "ExecuteTime": {
     "end_time": "2024-10-07T20:04:19.318980Z",
     "start_time": "2024-10-07T20:04:19.315857Z"
    }
   },
   "cell_type": "code",
   "source": [
    "# Função para carregar as anotações a partir de um arquivo JSONL\n",
    "def load_annotations(file_path):\n",
    "    with open(file_path, 'r', encoding='utf-8') as f:\n",
    "        annotations = [json.loads(line) for line in f.readlines()]\n",
    "    return annotations\n"
   ],
   "id": "d1eeb255f01e65c5",
   "outputs": [],
   "execution_count": 204
  },
  {
   "metadata": {
    "ExecuteTime": {
     "end_time": "2024-10-07T20:04:19.326263Z",
     "start_time": "2024-10-07T20:04:19.323120Z"
    }
   },
   "cell_type": "code",
   "source": [
    "# Função para criar uma lista de rótulos tokenizada\n",
    "def create_labels(text, annotations):\n",
    "    labels = [\"O\"] * len(text)  # Lista inicial de rótulos \"O\" (outside)\n",
    "    for start, end, label in annotations['label']:\n",
    "        if start < len(text) and end <= len(text):\n",
    "            for i in range(start, end):\n",
    "                labels[i] = label\n",
    "    return labels\n"
   ],
   "id": "55432decf64144c",
   "outputs": [],
   "execution_count": 205
  },
  {
   "metadata": {
    "ExecuteTime": {
     "end_time": "2024-10-07T20:04:19.336424Z",
     "start_time": "2024-10-07T20:04:19.332851Z"
    }
   },
   "cell_type": "code",
   "source": [
    "# Função para alinhar anotações pelo ID\n",
    "def align_by_id(annotator1, annotator2):\n",
    "    aligned_1 = []\n",
    "    aligned_2 = []\n",
    "    for a1 in annotator1:\n",
    "        for a2 in annotator2:\n",
    "            if a1['id'] == a2['id']:  # Alinhar pelo ID\n",
    "                labels_1 = create_labels(a1['text'], a1)\n",
    "                labels_2 = create_labels(a2['text'], a2)\n",
    "                \n",
    "                # Ajustar os comprimentos das listas\n",
    "                if len(labels_1) != len(labels_2):\n",
    "                    max_len = max(len(labels_1), len(labels_2))\n",
    "                    # Preencher a lista menor com \"O\" (outside)\n",
    "                    labels_1.extend([\"O\"] * (max_len - len(labels_1)))\n",
    "                    labels_2.extend([\"O\"] * (max_len - len(labels_2)))\n",
    "                \n",
    "                aligned_1.append(labels_1)\n",
    "                aligned_2.append(labels_2)\n",
    "    return aligned_1, aligned_2"
   ],
   "id": "461badb700c42ee7",
   "outputs": [],
   "execution_count": 206
  },
  {
   "metadata": {
    "ExecuteTime": {
     "end_time": "2024-10-07T20:04:19.342259Z",
     "start_time": "2024-10-07T20:04:19.339412Z"
    }
   },
   "cell_type": "code",
   "source": [
    "# Função para calcular Kappa de Cohen para todos os pares com verificação de variação\n",
    "def calculate_kappa_for_all(aligned_1, aligned_2, all_labels):\n",
    "    kappas = []\n",
    "    for labels_1, labels_2 in zip(aligned_1, aligned_2):\n",
    "        # Verifica se existe variação nas anotações\n",
    "        if len(set(labels_1)) > 1 or len(set(labels_2)) > 1:\n",
    "            kappa = cohen_kappa_score(labels_1, labels_2, labels=all_labels)\n",
    "        else:\n",
    "            kappa = None  # Ignora se não houver variação\n",
    "        kappas.append(kappa)\n",
    "    return kappas\n"
   ],
   "id": "21c040a5f59d60cf",
   "outputs": [],
   "execution_count": 207
  },
  {
   "metadata": {
    "ExecuteTime": {
     "end_time": "2024-10-07T20:04:19.345137Z",
     "start_time": "2024-10-07T20:04:19.343247Z"
    }
   },
   "cell_type": "code",
   "source": [
    "# Definir os rótulos conhecidos (entidades)\n",
    "all_labels = [\n",
    "    \"O\",  # Outside, sem anotação\n",
    "    \"time\", \"goleiro\", \"defensor\", \"meio-campista\", \"atacante\",\n",
    "    \"campeonato\", \"estádio\", \"técnico\", \"árbitro principal\", \"assistente\", \"placar\"\n",
    "]"
   ],
   "id": "9b8768965934d75a",
   "outputs": [],
   "execution_count": 208
  },
  {
   "metadata": {
    "ExecuteTime": {
     "end_time": "2024-10-07T20:04:19.364601Z",
     "start_time": "2024-10-07T20:04:19.346107Z"
    }
   },
   "cell_type": "code",
   "source": [
    "# Carregar os três arquivos de anotadores (JSONL)\n",
    "annotations_annotator_1 = load_annotations('./data/corpus_annotated/henrique.jsonl')\n",
    "annotations_annotator_2 = load_annotations('./data/corpus_annotated/florensa.jsonl')\n",
    "annotations_annotator_3 = load_annotations('./data/corpus_annotated/pedro.jsonl')"
   ],
   "id": "3ac248fdcb0ef67c",
   "outputs": [],
   "execution_count": 209
  },
  {
   "metadata": {
    "ExecuteTime": {
     "end_time": "2024-10-07T20:04:19.377249Z",
     "start_time": "2024-10-07T20:04:19.365744Z"
    }
   },
   "cell_type": "code",
   "source": [
    "# Alinhar anotadores 1 e 2 pelo ID\n",
    "aligned_1_2_1, aligned_1_2_2 = align_by_id(annotations_annotator_1, annotations_annotator_2)\n",
    "\n",
    "# Alinhar anotadores 2 e 3 pelo ID\n",
    "aligned_2_3_2, aligned_2_3_3 = align_by_id(annotations_annotator_2, annotations_annotator_3)\n",
    "\n",
    "# Alinhar anotadores 1 e 3 pelo ID\n",
    "aligned_1_3_1, aligned_1_3_3 = align_by_id(annotations_annotator_1, annotations_annotator_3)"
   ],
   "id": "2238e5b77ba9bb61",
   "outputs": [],
   "execution_count": 210
  },
  {
   "metadata": {
    "ExecuteTime": {
     "end_time": "2024-10-07T20:04:19.923819Z",
     "start_time": "2024-10-07T20:04:19.378092Z"
    }
   },
   "cell_type": "code",
   "source": [
    "# Calcular o Kappa de Cohen para cada par de anotadores com verificação de variação\n",
    "kappa_1_2 = calculate_kappa_for_all(aligned_1_2_1, aligned_1_2_2, all_labels)\n",
    "kappa_2_3 = calculate_kappa_for_all(aligned_2_3_2, aligned_2_3_3, all_labels)\n",
    "kappa_1_3 = calculate_kappa_for_all(aligned_1_3_1, aligned_1_3_3, all_labels)"
   ],
   "id": "bf38aae3681747a4",
   "outputs": [],
   "execution_count": 211
  },
  {
   "metadata": {
    "ExecuteTime": {
     "end_time": "2024-10-07T20:04:19.927751Z",
     "start_time": "2024-10-07T20:04:19.925321Z"
    }
   },
   "cell_type": "code",
   "source": [
    "# Calcular a média do Kappa Cohen para cada par de anotadores\n",
    "valid_kappas_1_2 = [k for k in kappa_1_2 if k is not None]\n",
    "mean_kappa_1_2 = np.mean(valid_kappas_1_2)\n",
    "\n",
    "valid_kappas_2_3 = [k for k in kappa_2_3 if k is not None]\n",
    "mean_kappa_2_3 = np.mean(valid_kappas_2_3)\n",
    "\n",
    "valid_kappas_1_3 = [k for k in kappa_1_3 if k is not None]\n",
    "mean_kappa_1_3 = np.mean(valid_kappas_1_3)"
   ],
   "id": "587c98aac9ee9b1c",
   "outputs": [],
   "execution_count": 212
  },
  {
   "metadata": {
    "ExecuteTime": {
     "end_time": "2024-10-07T20:04:19.930137Z",
     "start_time": "2024-10-07T20:04:19.928384Z"
    }
   },
   "cell_type": "code",
   "source": [
    "print(\"Média Kappa de Cohen para 99 textos (Henrique vs Florensa):\", mean_kappa_1_2)\n",
    "print(\"Média Kappa de Cohen para 99 textos  (Florensa vs Pedro):\", mean_kappa_2_3)\n",
    "print(\"Média Kappa de Cohen para 99 textos  (Henrique vs Pedro):\", mean_kappa_1_3)"
   ],
   "id": "70ab77d2eb38312",
   "outputs": [
    {
     "name": "stdout",
     "output_type": "stream",
     "text": [
      "Média Kappa de Cohen para 99 textos (Henrique vs Florensa): 0.8263866110497625\n",
      "Média Kappa de Cohen para 99 textos  (Florensa vs Pedro): 0.5445384430444409\n",
      "Média Kappa de Cohen para 99 textos  (Henrique vs Pedro): 0.5583901242607661\n"
     ]
    }
   ],
   "execution_count": 213
  },
  {
   "metadata": {
    "ExecuteTime": {
     "end_time": "2024-10-07T20:04:19.933050Z",
     "start_time": "2024-10-07T20:04:19.930704Z"
    }
   },
   "cell_type": "code",
   "source": [
    "# Carregar os dois arquivos de llm (JSONL)\n",
    "annotations_llm_zs = load_annotations('./data/corpus_annotated/llm_zero_shot.jsonl')\n",
    "annotations_llm_fs = load_annotations('./data/corpus_annotated/llm_few_shot.jsonl')"
   ],
   "id": "ad714126be9615c1",
   "outputs": [],
   "execution_count": 214
  },
  {
   "metadata": {
    "ExecuteTime": {
     "end_time": "2024-10-07T20:04:19.935123Z",
     "start_time": "2024-10-07T20:04:19.933720Z"
    }
   },
   "cell_type": "code",
   "source": "ids_to_filter = [104, 129, 163, 165, 172, 153]",
   "id": "ebfa7c49ba173bcf",
   "outputs": [],
   "execution_count": 215
  },
  {
   "metadata": {
    "ExecuteTime": {
     "end_time": "2024-10-07T20:04:19.937688Z",
     "start_time": "2024-10-07T20:04:19.935665Z"
    }
   },
   "cell_type": "code",
   "source": [
    "filtered_annotations_annotator_1 = [ann for ann in annotations_annotator_1 if ann['id'] in ids_to_filter]\n",
    "filtered_annotations_llm_zs = [ann for ann in annotations_llm_zs if ann['id'] in ids_to_filter]\n",
    "filtered_annotations_llm_fs = [ann for ann in annotations_llm_fs if ann['id'] in ids_to_filter]\n"
   ],
   "id": "505c35550c13fd23",
   "outputs": [],
   "execution_count": 216
  },
  {
   "metadata": {
    "ExecuteTime": {
     "end_time": "2024-10-07T20:04:19.941540Z",
     "start_time": "2024-10-07T20:04:19.939371Z"
    }
   },
   "cell_type": "code",
   "source": [
    "# Alinhar anotadores 1 e llm zero shot pelo ID\n",
    "aligned_1_zs_1, aligned_1_zs_2 = align_by_id(filtered_annotations_annotator_1, filtered_annotations_llm_zs)\n",
    "\n",
    "# Alinhar anotadores 1 e llm few shot pelo ID\n",
    "aligned_1_fs_1, aligned_1_fs_2 = align_by_id(filtered_annotations_annotator_1, filtered_annotations_llm_fs)"
   ],
   "id": "6aa65fd703a50177",
   "outputs": [],
   "execution_count": 217
  },
  {
   "metadata": {
    "ExecuteTime": {
     "end_time": "2024-10-07T20:04:19.972033Z",
     "start_time": "2024-10-07T20:04:19.942107Z"
    }
   },
   "cell_type": "code",
   "source": [
    "# Calcular o Kappa de Cohen para cada par de anotadores com verificação de variação\n",
    "kappa_1_zs = calculate_kappa_for_all(aligned_1_zs_1, aligned_1_zs_2, all_labels)\n",
    "kappa_1_fs = calculate_kappa_for_all(aligned_1_fs_1, aligned_1_fs_2, all_labels)"
   ],
   "id": "447dabead56a1d9d",
   "outputs": [],
   "execution_count": 218
  },
  {
   "metadata": {
    "ExecuteTime": {
     "end_time": "2024-10-07T20:04:19.974734Z",
     "start_time": "2024-10-07T20:04:19.972798Z"
    }
   },
   "cell_type": "code",
   "source": [
    "# Calcular a média do Kappa Cohen para cada par de anotadores\n",
    "valid_kappas_1_zs = [k for k in kappa_1_zs if k is not None]\n",
    "mean_kappa_1_zs = np.mean(valid_kappas_1_zs)\n",
    "\n",
    "valid_kappas_1_fs = [k for k in kappa_1_fs if k is not None]\n",
    "mean_kappa_1_fs = np.mean(valid_kappas_1_fs)"
   ],
   "id": "9d840c7b9f6187ef",
   "outputs": [],
   "execution_count": 219
  },
  {
   "metadata": {
    "ExecuteTime": {
     "end_time": "2024-10-07T20:04:19.977034Z",
     "start_time": "2024-10-07T20:04:19.975464Z"
    }
   },
   "cell_type": "code",
   "source": [
    "print(\"Média Kappa de Cohen para 6 textos (Henrique vs LLM zero shot):\", mean_kappa_1_zs)\n",
    "print(\"Média Kappa de Cohen para 6 textos  (Henrique vs LLM few shot):\", mean_kappa_1_fs)"
   ],
   "id": "9b166711d47984b",
   "outputs": [
    {
     "name": "stdout",
     "output_type": "stream",
     "text": [
      "Média Kappa de Cohen para 6 textos (Henrique vs LLM zero shot): 0.022491663876866703\n",
      "Média Kappa de Cohen para 6 textos  (Henrique vs LLM few shot): 0.11338503122710869\n"
     ]
    }
   ],
   "execution_count": 220
  }
 ],
 "metadata": {
  "kernelspec": {
   "display_name": "Python 3",
   "language": "python",
   "name": "python3"
  },
  "language_info": {
   "codemirror_mode": {
    "name": "ipython",
    "version": 2
   },
   "file_extension": ".py",
   "mimetype": "text/x-python",
   "name": "python",
   "nbconvert_exporter": "python",
   "pygments_lexer": "ipython2",
   "version": "2.7.6"
  }
 },
 "nbformat": 4,
 "nbformat_minor": 5
}
