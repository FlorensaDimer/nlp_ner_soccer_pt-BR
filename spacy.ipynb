{
 "cells": [
  {
   "cell_type": "code",
   "execution_count": 1,
   "metadata": {},
   "outputs": [],
   "source": [
    "import spacy\n",
    "from spacy.training import Example, offsets_to_biluo_tags\n",
    "from spacy.training.corpus import Corpus\n",
    "from spacy.training.loop import train\n",
    "from spacy.util import load_config\n",
    "\n",
    "from spacy import displacy\n",
    "\n",
    "from sklearn.model_selection import train_test_split\n",
    "import json\n",
    "\n",
    "from spacy.scorer import Scorer\n"
   ]
  },
  {
   "cell_type": "code",
   "execution_count": 2,
   "metadata": {},
   "outputs": [],
   "source": [
    "# Função para converter seu JSON anotado\n",
    "def convert_json_to_spacy_format(json_data):\n",
    "    spacy_format_data = []\n",
    "\n",
    "    for entry in json_data:\n",
    "        text = entry['text']\n",
    "        entities = entry['label']  # Pegando o campo \"label\" que contém as entidades\n",
    "        spacy_entities = []\n",
    "        \n",
    "        # Convertendo cada entidade para o formato que o spaCy espera\n",
    "        for entity in entities:\n",
    "            start, end, label = entity\n",
    "            spacy_entities.append((start, end, label))\n",
    "        \n",
    "        # Adicionando ao formato do spaCy: (texto, {\"entities\": [(início, fim, rótulo)]})\n",
    "        spacy_format_data.append((text, {\"entities\": spacy_entities}))\n",
    "    \n",
    "    return spacy_format_data"
   ]
  },
  {
   "cell_type": "code",
   "execution_count": null,
   "metadata": {},
   "outputs": [],
   "source": [
    "with open('data\\\\corpus_annotated\\\\henrique.jsonl', 'r', encoding='utf-8') as f:\n",
    "    json_data = [json.loads(line) for line in f]\n",
    "\n",
    "for entry in json_data:\n",
    "    print(entry)"
   ]
  },
  {
   "cell_type": "code",
   "execution_count": 4,
   "metadata": {},
   "outputs": [],
   "source": [
    "train_data, test_data = train_test_split(json_data, test_size=0.2, random_state=42)\n",
    "train_data, val_data = train_test_split(train_data, test_size=0.125, random_state=42)"
   ]
  },
  {
   "cell_type": "code",
   "execution_count": null,
   "metadata": {},
   "outputs": [],
   "source": [
    "print(f'Tamanho do treino: {len(train_data)}')\n",
    "print(f'Tamanho da validação: {len(val_data)}')\n",
    "print(f'Tamanho do teste: {len(test_data)}')"
   ]
  },
  {
   "cell_type": "code",
   "execution_count": 6,
   "metadata": {},
   "outputs": [],
   "source": [
    "# Convertendo o JSON para Spacy\n",
    "train_data_spacy = convert_json_to_spacy_format(train_data)\n",
    "val_data_spacy = convert_json_to_spacy_format(val_data)\n",
    "test_data_spacy = convert_json_to_spacy_format(test_data)"
   ]
  },
  {
   "cell_type": "code",
   "execution_count": 7,
   "metadata": {},
   "outputs": [],
   "source": [
    "nlp = spacy.blank(\"pt\")  # Modelo vazio em português\n",
    "ner = nlp.add_pipe(\"ner\")"
   ]
  },
  {
   "cell_type": "code",
   "execution_count": 8,
   "metadata": {},
   "outputs": [],
   "source": [
    "# Adicionar os rótulos das entidades\n",
    "for _, annotations in train_data_spacy:\n",
    "    for ent in annotations.get(\"entities\"):\n",
    "        ner.add_label(ent[2])"
   ]
  },
  {
   "cell_type": "markdown",
   "metadata": {},
   "source": [
    "##### Treinamento do modelo"
   ]
  },
  {
   "cell_type": "code",
   "execution_count": null,
   "metadata": {},
   "outputs": [],
   "source": [
    "optimizer = nlp.begin_training()\n",
    "\n",
    "for itn in range(10):  # Número de épocas\n",
    "    print(f\"Iteração {itn + 1}\")\n",
    "    for text, annotations in train_data_spacy:\n",
    "        # Atualizando o modelo com os textos e entidades\n",
    "        doc = nlp.make_doc(text)\n",
    "        example = spacy.training.Example.from_dict(doc, annotations)\n",
    "        nlp.update([example], sgd=optimizer)"
   ]
  },
  {
   "cell_type": "markdown",
   "metadata": {},
   "source": [
    "##### Avaliação do modelo"
   ]
  },
  {
   "cell_type": "code",
   "execution_count": null,
   "metadata": {},
   "outputs": [],
   "source": [
    "examples = []\n",
    "for item in test_data:\n",
    "    doc = nlp.make_doc(item[\"text\"])\n",
    "    entities = item[\"label\"]\n",
    "    example = Example.from_dict(doc, {\"entities\": entities})\n",
    "    examples.append(example)"
   ]
  },
  {
   "cell_type": "code",
   "execution_count": 11,
   "metadata": {},
   "outputs": [],
   "source": [
    "# Avaliação do modelo\n",
    "scores = nlp.evaluate(examples)"
   ]
  },
  {
   "cell_type": "code",
   "execution_count": null,
   "metadata": {},
   "outputs": [],
   "source": [
    "# Acessar a precisão geral\n",
    "print(\"Precisão geral:\", scores[\"ents_p\"])\n",
    "print(\"Recall:\", scores[\"ents_r\"])\n",
    "print(\"F1 Score:\", scores[\"ents_f\"])\n",
    "\n",
    "# Acessar métricas específicas para cada tipo de entidade\n",
    "for ent_type, metrics in scores[\"ents_per_type\"].items():\n",
    "    print(f\"\\nEntidade: {ent_type}\")\n",
    "    print(f\" - Precision: {metrics['p']}\")\n",
    "    print(f\" - Recall: {metrics['r']}\")\n",
    "    print(f\" - F1 Score: {metrics['f']}\")\n"
   ]
  },
  {
   "cell_type": "code",
   "execution_count": null,
   "metadata": {},
   "outputs": [],
   "source": [
    "text = \"O Inter perdeu de 2 a 0 na Copa Libertadores para o Grêmio. O treinador foi o Celso Roth. No estádio Beira Rio.\"\n",
    "doc = nlp(text)\n",
    "displacy.render(doc, style=\"ent\", jupyter=True)"
   ]
  }
 ],
 "metadata": {
  "kernelspec": {
   "display_name": ".venv",
   "language": "python",
   "name": "python3"
  },
  "language_info": {
   "codemirror_mode": {
    "name": "ipython",
    "version": 3
   },
   "file_extension": ".py",
   "mimetype": "text/x-python",
   "name": "python",
   "nbconvert_exporter": "python",
   "pygments_lexer": "ipython3",
   "version": "3.11.9"
  }
 },
 "nbformat": 4,
 "nbformat_minor": 2
}
