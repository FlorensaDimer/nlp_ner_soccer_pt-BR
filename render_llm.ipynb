{
 "cells": [
  {
   "cell_type": "code",
   "metadata": {
    "ExecuteTime": {
     "end_time": "2024-10-07T18:41:35.954377Z",
     "start_time": "2024-10-07T18:41:35.199223Z"
    }
   },
   "source": "from spacy import displacy",
   "outputs": [
    {
     "name": "stderr",
     "output_type": "stream",
     "text": [
      "/Users/kops/Documents/pucrs/nlp/nlp_ner_soccer_pt-BR/.venv/lib/python3.9/site-packages/urllib3/__init__.py:35: NotOpenSSLWarning: urllib3 v2 only supports OpenSSL 1.1.1+, currently the 'ssl' module is compiled with 'LibreSSL 2.8.3'. See: https://github.com/urllib3/urllib3/issues/3020\n",
      "  warnings.warn(\n"
     ]
    }
   ],
   "execution_count": 1
  },
  {
   "cell_type": "code",
   "metadata": {
    "ExecuteTime": {
     "end_time": "2024-10-07T18:42:21.963814Z",
     "start_time": "2024-10-07T18:42:21.940922Z"
    }
   },
   "source": [
    "# Zero shot\n",
    "texts = open(\"./data/corpus_annotated/llm_zero_shot.jsonl\")\n",
    "# Função para exibir cada texto anotado\n",
    "for text in texts:\n",
    "    annotations = {\n",
    "        \"text\": text[\"text\"],\n",
    "        \"ents\": [{\"start\": start, \"end\": end, \"label\": label} for start, end, label in text[\"label\"]]\n",
    "    }\n",
    "    displacy.render(annotations, style=\"ent\", manual=True, jupyter=True)\n"
   ],
   "outputs": [
    {
     "ename": "TypeError",
     "evalue": "string indices must be integers",
     "output_type": "error",
     "traceback": [
      "\u001B[0;31m---------------------------------------------------------------------------\u001B[0m",
      "\u001B[0;31mTypeError\u001B[0m                                 Traceback (most recent call last)",
      "Cell \u001B[0;32mIn[3], line 6\u001B[0m\n\u001B[1;32m      3\u001B[0m \u001B[38;5;66;03m# Função para exibir cada texto anotado\u001B[39;00m\n\u001B[1;32m      4\u001B[0m \u001B[38;5;28;01mfor\u001B[39;00m text \u001B[38;5;129;01min\u001B[39;00m texts:\n\u001B[1;32m      5\u001B[0m     annotations \u001B[38;5;241m=\u001B[39m {\n\u001B[0;32m----> 6\u001B[0m         \u001B[38;5;124m\"\u001B[39m\u001B[38;5;124mtext\u001B[39m\u001B[38;5;124m\"\u001B[39m: \u001B[43mtext\u001B[49m\u001B[43m[\u001B[49m\u001B[38;5;124;43m\"\u001B[39;49m\u001B[38;5;124;43mtext\u001B[39;49m\u001B[38;5;124;43m\"\u001B[39;49m\u001B[43m]\u001B[49m,\n\u001B[1;32m      7\u001B[0m         \u001B[38;5;124m\"\u001B[39m\u001B[38;5;124ments\u001B[39m\u001B[38;5;124m\"\u001B[39m: [{\u001B[38;5;124m\"\u001B[39m\u001B[38;5;124mstart\u001B[39m\u001B[38;5;124m\"\u001B[39m: start, \u001B[38;5;124m\"\u001B[39m\u001B[38;5;124mend\u001B[39m\u001B[38;5;124m\"\u001B[39m: end, \u001B[38;5;124m\"\u001B[39m\u001B[38;5;124mlabel\u001B[39m\u001B[38;5;124m\"\u001B[39m: label} \u001B[38;5;28;01mfor\u001B[39;00m start, end, label \u001B[38;5;129;01min\u001B[39;00m text[\u001B[38;5;124m\"\u001B[39m\u001B[38;5;124mlabel\u001B[39m\u001B[38;5;124m\"\u001B[39m]]\n\u001B[1;32m      8\u001B[0m     }\n\u001B[1;32m      9\u001B[0m     displacy\u001B[38;5;241m.\u001B[39mrender(annotations, style\u001B[38;5;241m=\u001B[39m\u001B[38;5;124m\"\u001B[39m\u001B[38;5;124ment\u001B[39m\u001B[38;5;124m\"\u001B[39m, manual\u001B[38;5;241m=\u001B[39m\u001B[38;5;28;01mTrue\u001B[39;00m, jupyter\u001B[38;5;241m=\u001B[39m\u001B[38;5;28;01mTrue\u001B[39;00m)\n",
      "\u001B[0;31mTypeError\u001B[0m: string indices must be integers"
     ]
    }
   ],
   "execution_count": 3
  },
  {
   "metadata": {},
   "cell_type": "code",
   "outputs": [],
   "execution_count": null,
   "source": [
    "# Few shot\n",
    "texts = open(\"./data/corpus_annotated/llm_few_shot.jsonl\")\n",
    "# Função para exibir cada texto anotado\n",
    "for text in texts:\n",
    "    annotations = {\n",
    "        \"text\": text[\"text\"],\n",
    "        \"ents\": [{\"start\": start, \"end\": end, \"label\": label} for start, end, label in text[\"label\"]]\n",
    "    }\n",
    "    displacy.render(annotations, style=\"ent\", manual=True, jupyter=True)\n"
   ]
  }
 ],
 "metadata": {
  "kernelspec": {
   "display_name": ".venv",
   "language": "python",
   "name": "python3"
  },
  "language_info": {
   "codemirror_mode": {
    "name": "ipython",
    "version": 3
   },
   "file_extension": ".py",
   "mimetype": "text/x-python",
   "name": "python",
   "nbconvert_exporter": "python",
   "pygments_lexer": "ipython3",
   "version": "3.11.9"
  }
 },
 "nbformat": 4,
 "nbformat_minor": 2
}
